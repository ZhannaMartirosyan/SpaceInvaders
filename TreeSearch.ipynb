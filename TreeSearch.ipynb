{
  "nbformat": 4,
  "nbformat_minor": 0,
  "metadata": {
    "kernelspec": {
      "display_name": "Python 3",
      "language": "python",
      "name": "python3"
    },
    "language_info": {
      "codemirror_mode": {
        "name": "ipython",
        "version": 3
      },
      "file_extension": ".py",
      "mimetype": "text/x-python",
      "name": "python",
      "nbconvert_exporter": "python",
      "pygments_lexer": "ipython3",
      "version": "3.7.3"
    },
    "colab": {
      "name": "TreeSearch.ipynb",
      "provenance": [],
      "collapsed_sections": [
        "6727YuXYKmAD",
        "z563cIEoKmAK",
        "BAM4xB3rKmAX",
        "bgD3ajFoKmAh"
      ],
      "include_colab_link": true
    }
  },
  "cells": [
    {
      "cell_type": "markdown",
      "metadata": {
        "id": "view-in-github",
        "colab_type": "text"
      },
      "source": [
        "<a href=\"https://colab.research.google.com/github/ZhannaMartirosyan/SpaceInvaders/blob/master/TreeSearch.ipynb\" target=\"_parent\"><img src=\"https://colab.research.google.com/assets/colab-badge.svg\" alt=\"Open In Colab\"/></a>"
      ]
    },
    {
      "cell_type": "markdown",
      "metadata": {
        "id": "-vFGpPNlKl_M"
      },
      "source": [
        "# Uninformed Tree Search Without Duplicate Detection\n",
        "In this lab you are going to implement basic tree-search methods (without duplicate states detection) - BFS (Breadth First Search), DFS (Depth First Search), DFS-L (Depth First Search with Limited Depth), DFID (Depth First Iterative Deepening).\n",
        "\n",
        "Two widespread domains will be considered - 15-puzzle and Panckakes. For 15-puzzle the code that defines the state and the getSuccesors function is already available. For Panckakes - you have to code it yourself. All search methods have to be coded by you as well, using the code stubs provided.\n",
        "\n",
        "Run every cell of the notebook and complete the described tasks. Good luck!"
      ]
    },
    {
      "cell_type": "markdown",
      "metadata": {
        "id": "sYjfeAoqORwY"
      },
      "source": [
        ""
      ]
    },
    {
      "cell_type": "code",
      "metadata": {
        "id": "8xBxRFt1Kl_f"
      },
      "source": [
        "import copy"
      ],
      "execution_count": null,
      "outputs": []
    },
    {
      "cell_type": "markdown",
      "metadata": {
        "id": "eV1PY-F7Kl_j"
      },
      "source": [
        "# Gem Puzzle (15-puzzle or n-puzzle)\n",
        "The 15-puzzle (also called Gem Puzzle, Boss Puzzle, Game of Fifteen, Mystic Square and many others) is a sliding puzzle that consists of a frame of numbered square tiles in random order with one tile missing (see picture below). The puzzle also exists in other sizes, particularly the smaller 8-puzzle. If the size is 3×3 tiles, the puzzle is called the 8-puzzle or 9-puzzle, and if 4×4 tiles, the puzzle is called the 15-puzzle or 16-puzzle named, respectively, for the number of tiles and the number of spaces. The object of the puzzle is to place the tiles in order by making sliding moves that use the empty space. Note, that half of the starting positions for the n-puzzle are impossible to resolve, no matter how many moves are made. [[Wikipedia](https://en.wikipedia.org/wiki/15_puzzle)]. "
      ]
    },
    {
      "cell_type": "markdown",
      "metadata": {
        "tags": [],
        "id": "g3kZi9tjKl_m"
      },
      "source": [
        "![puzzle](GemPuzzle.png)"
      ]
    },
    {
      "cell_type": "markdown",
      "metadata": {
        "id": "5soweq1wKl_o"
      },
      "source": [
        "## Representation of a search state for the Gem Puzzle\n",
        "\n",
        "Implementing SearchState (or simply - State) in code is a very important first step needed to tackle any search problem.\n",
        "\n",
        "The suggested implementation (not the only one possible, obviously) of the GemPuzzleState is comprised of the following fields: \n",
        "- size - width of game field \n",
        "- tileList - tile positions represented as a list of integers. This list is expected to contain values from 1 to *size* * *size*. Each integer value corresponds to a tile and the position in the list (index) corresponds to the position of the tile on the game field. Tile with the value *size* * *size* is assumed to represent blank position.\n",
        "- parent - pointer to the parent-state. Parent is a predecessor of the state in the search-tree. It is used to reconstrruct a path to that state from the start state (root of the search tree).\n",
        "- blankPos - position of empty tile in tileList. Explicitly storing the position of a blank helps to generate successors faster.\n",
        "\n"
      ]
    },
    {
      "cell_type": "code",
      "metadata": {
        "id": "-iFl8ltYKl_s"
      },
      "source": [
        "class GemPuzzleState:\n",
        "\n",
        "    # Constructor. Sets tile positions + some basic checks.\n",
        "    def __init__(self, tileList):\n",
        "        self.tileList = tileList\n",
        "        self.size = int(len(tileList) ** 0.5)\n",
        "        blankValue = self.size ** 2\n",
        "        if (blankValue != len(tileList)):\n",
        "            raise Exception(\"The tile list must contain the number of elements which is equal to the square of an integer!\")\n",
        "\n",
        "        # Memorizing the position of a blank tile\n",
        "        # Technically, there is no need to do so, but it makes to get the successors a bit faster\n",
        "        self.blankPos = -1 \n",
        "        for i in enumerate(tileList):\n",
        "            if (i[1] == blankValue):\n",
        "                self.blankPos = i[0]\n",
        "\n",
        "                \n",
        "        if (self.blankPos == -1):\n",
        "            raise Exception(\"State should contains max value as position to blank tile\")     \n",
        "        \n",
        "        # The parent state (predecessor in the search tree) will be set up by the search algorithm.\n",
        "        self.parent = None\n",
        "       \n",
        "    # Comparing one state with the other state. This is needed e.g. to test whether we reached the goal state.\n",
        "    def __eq__(self, other):\n",
        "        for i in enumerate(self.tileList):\n",
        "            if i[1] != other.tileList[i[0]]:\n",
        "                return False\n",
        "        return True\n",
        "\n",
        "\n",
        "    # Printing the state as tile matrix\n",
        "    def Print(self):\n",
        "        res = []\n",
        "        charTileList = list(map(str, self.tileList))\n",
        "        charTileList[self.blankPos] = '_'\n",
        "        for rowStart in range(0, len(charTileList), self.size):\n",
        "            res.append(charTileList[rowStart:rowStart+self.size])\n",
        "        print()\n",
        "        print('\\n'.join([''.join(['{:2}'.format(item) for item in row]) \n",
        "            for row in res]))\n"
      ],
      "execution_count": null,
      "outputs": []
    },
    {
      "cell_type": "markdown",
      "metadata": {
        "id": "XKRkvpSaKl_t"
      },
      "source": [
        "### Get Succesors\n",
        "Implementing GetSuccessors function is another important step to tackle any search problem.\n",
        "\n",
        "This function is presumed to take a particular search state as the input and to return all possible succesors states. i.e. the ones that result from applying all applicable actions to the input state. \n",
        "\n",
        "In case of GemPuzzle the succesors correspond to the board states resulting from moving blank up/down/left/right. If blank goes out of the field after a move, such successor should obviously be discarded."
      ]
    },
    {
      "cell_type": "code",
      "metadata": {
        "id": "JpGUCbQPKl_v"
      },
      "source": [
        "def GetSuccessors(state):\n",
        "    pass"
      ],
      "execution_count": null,
      "outputs": []
    },
    {
      "cell_type": "markdown",
      "metadata": {
        "id": "dTXCmUdSKl_w"
      },
      "source": [
        "### Goal check\n",
        "\n",
        "Handy function that returns `True` if the input `state` corresponds to the goal one (i.e. all tiles are in their places), and `False` otherwise"
      ]
    },
    {
      "cell_type": "code",
      "metadata": {
        "id": "uRwGWpz2Kl_x"
      },
      "source": [
        "def StateIsGoal(state):\n",
        "    for i in range(1, len(state.tileList)):\n",
        "        if(state.tileList[i-1] > state.tileList[i]):\n",
        "            return False\n",
        "    return True"
      ],
      "execution_count": null,
      "outputs": []
    },
    {
      "cell_type": "markdown",
      "metadata": {
        "id": "J3deXaP6Kl_z"
      },
      "source": [
        "### Path checking\n",
        "Auxiliary function that takes the `lastState` and checks whether this state is a goal. If yes, it unwinds the path using the backpointers and checks whether each successor is reachable from its predecessor."
      ]
    },
    {
      "cell_type": "code",
      "metadata": {
        "id": "cicF301cKl_1"
      },
      "source": [
        "def CheckPath(lastState):\n",
        "        curr = lastState\n",
        "        if not StateIsGoal(curr):\n",
        "            print(\"Goal was not reached!\")\n",
        "            return False\n",
        "\n",
        "        while(curr.parent is not None):\n",
        "            prev = curr.parent\n",
        "            if (curr not in GetSuccessors(prev)):\n",
        "                print(\"Unacceptable step!\")\n",
        "                return False                \n",
        "            curr = prev\n",
        "        return True"
      ],
      "execution_count": null,
      "outputs": []
    },
    {
      "cell_type": "markdown",
      "metadata": {
        "id": "S_Y0Mje6Kl_2"
      },
      "source": [
        "### Path unwinding\n",
        "Typically the paths are not stored within a search explicitly, but rather implicitly via the parent pointers (pointing to the predecessor in the search tree). Thus, when we reach the goal state and want to reconstruct the whole path we need to trace the parent pointers back to the root of the tree.\n",
        "\n",
        "Technically this function takes a state `lastState` as an input and returns a path to this state from the root of the tree."
      ]
    },
    {
      "cell_type": "code",
      "metadata": {
        "id": "gL8vDAoGKl_2"
      },
      "source": [
        "def GetPath(lastState):\n",
        "    path = []\n",
        "    curr = lastState\n",
        "    while curr is not None:\n",
        "        path.append(curr)\n",
        "        curr = curr.parent\n",
        "    return path\n"
      ],
      "execution_count": null,
      "outputs": []
    },
    {
      "cell_type": "markdown",
      "metadata": {
        "id": "vxvSQKkGKl_3"
      },
      "source": [
        "## Automated tests to check the implementations of the search algorithms\n",
        "When you finish implementing search algorithms you need to test them, right? The following functions will help you in that. They take your search algorithm as an input and run it on a single simple test (`SimpleTest`) and on a series of a more involved test (`MassiveTest`).\n",
        "\n",
        "These automated tests assume that the seach function, passed as the input, has the following structure:\n",
        "\n",
        "`SearchFunction(startState, *optional arguments*) -> (pathFound, lastState)`, where\n",
        "\n",
        "- startState -- initial state\n",
        "- *optional arguments* -- additional parameters of the search function (if needed), passed via `*args`\n",
        "- pathFound -- result of the search, `True` if path was found, `False` otherwise\n",
        "- lastState -- last state of path. `None` if path was not found"
      ]
    },
    {
      "cell_type": "markdown",
      "metadata": {
        "id": "CuoZoG9ZKl_3"
      },
      "source": [
        "SimpleTest runs `SearchFunction` on a simple 2x2 sliding puzzle instance (encoded as [3, 1, 2, 4]).\n",
        "\n",
        "The output is as follows:\n",
        "- 'Path is OK' and list of states of path -- path was found and it is correct\n",
        "- 'Path is not OK(' -- path was found but it is not correct \n",
        "- 'Path not found(' -- path was not found \n",
        "- 'Execution error' -- an error occurred while executing the `SearchFunction` or path validation function"
      ]
    },
    {
      "cell_type": "code",
      "metadata": {
        "id": "-o0VFikpKl_3"
      },
      "source": [
        "\n",
        "def SimpleTest(SearchFunction, *args):\n",
        "    startState = GemPuzzleState([3,1,2,4])\n",
        "    try:\n",
        "        result = SearchFunction(startState, *args)\n",
        "        curr = result[1]\n",
        "        if(result[0]):\n",
        "            if(CheckPath(curr)):\n",
        "                print(\"Path is OK!\")\n",
        "                path = GetPath(result[1])\n",
        "\n",
        "                while len(path) != 0:\n",
        "                    s = path.pop()\n",
        "                    s.Print()\n",
        "            else:\n",
        "                print(\"Path is not OK(\")\n",
        "        else:\n",
        "            print(\"Path not found(\")\n",
        "    except Exception as e:\n",
        "        print(\"Execution error\")\n",
        "        print(e)"
      ],
      "execution_count": null,
      "outputs": []
    },
    {
      "cell_type": "markdown",
      "metadata": {
        "id": "MMQLoCL-Kl_4"
      },
      "source": [
        "MassiveTest runs `SearchFunction` on set of different tasks (stored in `Data/taskGem.txt`). Initially this file contains 4 different 2x2 sliding puzzle instances and 4 different 3x3 sliding puzzle instances (you can add more if you want).\n",
        "\n",
        "The output is similar to `SimpleTest` (however the full paths for solved instances are not displayed):\n",
        "\n",
        "- 'Path is OK' -- path was found and it is correct\n",
        "- 'Path os not OK(' -- path was found but it is not correct \n",
        "- 'Path not found(' -- path was not found\n",
        "- 'Execution error' -- an error occurred  while executing the `SearchFunction` or path validation function\n",
        " "
      ]
    },
    {
      "cell_type": "code",
      "metadata": {
        "id": "IdUlYWRTKl_5"
      },
      "source": [
        "def MassiveTest(SearchFunction, *args):\n",
        "    tasksFile = open('Data/tasksGem.txt')\n",
        "    count = 0\n",
        "    for l in tasksFile:\n",
        "        count += 1\n",
        "        state = list(map(int, l.split()))\n",
        "        task = GemPuzzleState(state)\n",
        "        try:\n",
        "            result = SearchFunction(task, *args)\n",
        "            curr = result[1]\n",
        "            if(result[0]):\n",
        "                if(CheckPath(curr)):\n",
        "                    print(count, \"Path is OK!\")\n",
        "                else:\n",
        "                    print(count, \"Path is not OK(\")\n",
        "            else:\n",
        "                print(count, \"Path not found(\")\n",
        "        except Exception as e:\n",
        "            print(count, \"Execution error\")\n",
        "            print(e)\n",
        "        "
      ],
      "execution_count": null,
      "outputs": []
    },
    {
      "cell_type": "markdown",
      "metadata": {
        "id": "7R9tgMf7Kl_5"
      },
      "source": [
        "## Breadth-First Search (BFS)"
      ]
    },
    {
      "cell_type": "code",
      "metadata": {
        "tags": [],
        "id": "2LOC-poIKl_6"
      },
      "source": [
        "# TODO Implementation of Breadth-First Search algorithm\n",
        "\n",
        "def BFS(start):\n",
        "   pass\n"
      ],
      "execution_count": null,
      "outputs": []
    },
    {
      "cell_type": "code",
      "metadata": {
        "tags": [],
        "id": "g5LMxJrdKl_6"
      },
      "source": [
        "# Test your BFS on simple task\n",
        "SimpleTest(BFS)"
      ],
      "execution_count": null,
      "outputs": []
    },
    {
      "cell_type": "code",
      "metadata": {
        "tags": [],
        "id": "9xuGH-O1Kl_7"
      },
      "source": [
        "# If simple test is OK, you should check your implementation in massive test. The rest of the search algorithms are checked in the same way.\n",
        "MassiveTest(BFS)"
      ],
      "execution_count": null,
      "outputs": []
    },
    {
      "cell_type": "markdown",
      "metadata": {
        "id": "UuT7T7C7Kl_7"
      },
      "source": [
        "## Depth-First Search (DFS)"
      ]
    },
    {
      "cell_type": "code",
      "metadata": {
        "id": "ZtwNj6CtKl_-"
      },
      "source": [
        "# TODO Implementation of Depth-First Search algorithm\n",
        "\n",
        "def DFS(state):\n",
        "  pass"
      ],
      "execution_count": null,
      "outputs": []
    },
    {
      "cell_type": "markdown",
      "metadata": {
        "id": "sYQkoMN-Kl__"
      },
      "source": [
        "Using DFS, you will most likely encounter the fact that this algorithm overcomes the threshold of recursive calls, after which the execution will interrupted. "
      ]
    },
    {
      "cell_type": "code",
      "metadata": {
        "tags": [],
        "id": "uoUCoxXSKmAB"
      },
      "source": [
        "SimpleTest(DFS)"
      ],
      "execution_count": null,
      "outputs": []
    },
    {
      "cell_type": "markdown",
      "metadata": {
        "id": "w39GjBiGKmAB"
      },
      "source": [
        "But you can create such a simple task, which can be solved by DFS"
      ]
    },
    {
      "cell_type": "code",
      "metadata": {
        "id": "iV9tMj2QKmAB"
      },
      "source": [
        "def DFSSimpleTest(SearchFunction, *args):\n",
        "    # Lets Do It!\n",
        "    YourTileList = ['''Place to insert your task''']\n",
        "    YourTileList = [1, 2, 4, 3]\n",
        "    startState = GemPuzzleState(YourTileList)\n",
        "    try:\n",
        "        result = SearchFunction(startState, *args)\n",
        "        curr = result[1]\n",
        "        if(result[0]):\n",
        "            if(CheckPath(curr)):\n",
        "                print(\"Path is OK!\")\n",
        "                path = GetPath(result[1])\n",
        "\n",
        "                while len(path) != 0:\n",
        "                    s = path.pop()\n",
        "                    s.Print()\n",
        "            else:\n",
        "                print(\"Path is not OK(\")\n",
        "        else:\n",
        "            print(\"Path not found(\")\n",
        "    except Exception as e:\n",
        "        print(\"Execution error\")\n",
        "        print(e)"
      ],
      "execution_count": null,
      "outputs": []
    },
    {
      "cell_type": "code",
      "metadata": {
        "tags": [],
        "id": "0A8d2M73KmAC"
      },
      "source": [
        "DFSSimpleTest(DFS)"
      ],
      "execution_count": null,
      "outputs": []
    },
    {
      "cell_type": "code",
      "metadata": {
        "tags": [],
        "id": "k7hdhkJYKmAD"
      },
      "source": [
        "# There is no need to start MassiveTest\n",
        "#MassiveTest(DFS)"
      ],
      "execution_count": null,
      "outputs": []
    },
    {
      "cell_type": "markdown",
      "metadata": {
        "id": "0IxdVN2rKmAN"
      },
      "source": [
        "## Pancake Sorting"
      ]
    },
    {
      "cell_type": "markdown",
      "metadata": {
        "tags": [],
        "id": "t2kQkv4iKmAO"
      },
      "source": [
        "![Example](Image/Cat.jpg)"
      ]
    },
    {
      "cell_type": "markdown",
      "metadata": {
        "id": "XyBDsbvZKmAP"
      },
      "source": [
        "Pancake sorting is the colloquial term for the mathematical problem of sorting a disordered stack of pancakes in order of size when a spatula can be inserted at any point in the stack and used to flip all pancakes above it (See picture below) [[Wikipedia](https://en.wikipedia.org/wiki/Pancake_sorting)]."
      ]
    },
    {
      "cell_type": "markdown",
      "metadata": {
        "tags": [],
        "id": "TVGu5pX5KmAQ"
      },
      "source": [
        "![Example](Image/Pancake.png)"
      ]
    },
    {
      "cell_type": "markdown",
      "metadata": {
        "id": "Xq1NOtB1KmAR"
      },
      "source": [
        "### Representation of a state\n",
        "In this task you should create your own implementation of pancake sorting problem state (and all related funtions) with your own test data. Note, that the interface of the state-class must be the same as for the `GemPuzzleState` thus all the machinery introduced before (e.g. automated tests) will work out-of-the-box. "
      ]
    },
    {
      "cell_type": "code",
      "metadata": {
        "id": "pNEw6Nf8KmAR"
      },
      "source": [
        "class PancakeDish:\n",
        "    # Constructor\n",
        "  def __init__(self, pancakes):\n",
        "      self.pancakes = pancakes  \n",
        "      self.parent = None\n",
        "\n",
        "       \n",
        "    # Compare with other state. Using for path checking\n",
        "  def __eq__(self, other):\n",
        "      for i in enumerate(self.pancakes):\n",
        "          if i[1] != other.pancakes[i[0]]:\n",
        "              return False\n",
        "      return True\n",
        "\n",
        "\n",
        "    # Prints state in form of tile matrix\n",
        "  def Print(self):\n",
        "    print(*(self.pancakes))\n"
      ],
      "execution_count": null,
      "outputs": []
    },
    {
      "cell_type": "code",
      "metadata": {
        "id": "bS4macRHKmAT"
      },
      "source": [
        "def GetSuccessors(state):\n",
        "    # TODO\n"
      ],
      "execution_count": null,
      "outputs": []
    },
    {
      "cell_type": "code",
      "metadata": {
        "tags": [],
        "id": "VivWzU9zKmAV"
      },
      "source": [
        "def StateIsGoal(state):\n",
        "  \n"
      ],
      "execution_count": null,
      "outputs": []
    },
    {
      "cell_type": "code",
      "metadata": {
        "id": "8cAqC-2fKmAW"
      },
      "source": [
        "def SimpleTest(SearchFunction, *args):\n",
        "    startState = PancakeDish('''Insert your simple task here''')\n",
        "    # startState = PancakeDish([3,2,1,4])\n",
        "    try:\n",
        "        result = SearchFunction(startState, *args)\n",
        "        curr = result[1]\n",
        "        if(result[0]):\n",
        "            if(CheckPath(curr)):\n",
        "                print(\"Path is OK!\")\n",
        "\n",
        "                stack = []\n",
        "                curr = result[1]\n",
        "                while curr is not None:\n",
        "                    stack.append(curr)\n",
        "                    curr = curr.parent\n",
        "\n",
        "                while len(stack) != 0:\n",
        "                    s = stack.pop()\n",
        "                    s.Print()\n",
        "            else:\n",
        "                print(\"Path is not OK(\")\n",
        "        else:\n",
        "            print(\"Path not found(\")\n",
        "    except Exception as e:\n",
        "        print(\"Execution error\")\n",
        "        print(e)"
      ],
      "execution_count": null,
      "outputs": []
    },
    {
      "cell_type": "code",
      "metadata": {
        "id": "wckDTqq2KmAX"
      },
      "source": [
        "def MassiveTest(SearchFunction, *args):\n",
        "    # TODO your file with at least 8 different tasks\n",
        "    asksFile = open('Data/YourTaskFile.txt')\n",
        "    # tasksFile = open('Data/tasksCapcake.txt')\n",
        "    count = 0\n",
        "    for l in tasksFile:\n",
        "        count += 1\n",
        "        state = list(map(int, l.split()))\n",
        "        task = PancakeDish(state)\n",
        "        try:\n",
        "            result = SearchFunction(task, *args)\n",
        "            curr = result[1]\n",
        "            if(result[0]):\n",
        "                if(CheckPath(curr)):\n",
        "                    print(count, \"Path is OK!\")\n",
        "                else:\n",
        "                    print(count, \"Path is not OK(\")\n",
        "            else:\n",
        "                print(count, \"Path not found(\")\n",
        "        except Exception as e:\n",
        "            print(count, \"Execution error\")\n",
        "            print(e)"
      ],
      "execution_count": null,
      "outputs": []
    },
    {
      "cell_type": "markdown",
      "metadata": {
        "id": "BAM4xB3rKmAX"
      },
      "source": [
        "## Lets check!"
      ]
    },
    {
      "cell_type": "code",
      "metadata": {
        "tags": [],
        "id": "MwKo_xbUKmAZ"
      },
      "source": [
        "SimpleTest(BFS)"
      ],
      "execution_count": null,
      "outputs": []
    },
    {
      "cell_type": "code",
      "metadata": {
        "tags": [],
        "id": "7dkJ0RD_KmAa"
      },
      "source": [
        "MassiveTest(BFS)"
      ],
      "execution_count": null,
      "outputs": []
    },
    {
      "cell_type": "code",
      "metadata": {
        "tags": [],
        "id": "QMjLvQYxKmAa"
      },
      "source": [
        "SimpleTest(DFS)"
      ],
      "execution_count": null,
      "outputs": []
    },
    {
      "cell_type": "code",
      "metadata": {
        "tags": [],
        "id": "6CUYVZ80KmAb"
      },
      "source": [
        "#MassiveTest(DFS)"
      ],
      "execution_count": null,
      "outputs": []
    },
    {
      "cell_type": "code",
      "metadata": {
        "tags": [],
        "id": "_C9gF9LSKmAc"
      },
      "source": [
        "SimpleTest(DLS, 2, 0)\n",
        "SimpleTest(DLS, 5, 0)\n",
        "SimpleTest(DLS, 10, 0)\n"
      ],
      "execution_count": null,
      "outputs": []
    },
    {
      "cell_type": "code",
      "metadata": {
        "tags": [],
        "id": "pQI-Kt15KmAc"
      },
      "source": [
        "MassiveTest(DLS, 2, 0)"
      ],
      "execution_count": null,
      "outputs": []
    },
    {
      "cell_type": "code",
      "metadata": {
        "tags": [],
        "id": "Oef5GkAxKmAe"
      },
      "source": [
        "MassiveTest(DLS, 5, 0)"
      ],
      "execution_count": null,
      "outputs": []
    },
    {
      "cell_type": "code",
      "metadata": {
        "tags": [],
        "id": "InHxcJmuKmAe"
      },
      "source": [
        "MassiveTest(DLS, 10, 0)"
      ],
      "execution_count": null,
      "outputs": []
    },
    {
      "cell_type": "code",
      "metadata": {
        "tags": [],
        "id": "JfcjP3AtKmAg"
      },
      "source": [
        "SimpleTest(DFID)"
      ],
      "execution_count": null,
      "outputs": []
    },
    {
      "cell_type": "code",
      "metadata": {
        "tags": [],
        "id": "WaFoIsiJKmAg"
      },
      "source": [
        "MassiveTest(DFID)"
      ],
      "execution_count": null,
      "outputs": []
    },
    {
      "cell_type": "markdown",
      "metadata": {
        "id": "bgD3ajFoKmAh"
      },
      "source": [
        "## References\n",
        "1. https://cs.lmu.edu/~ray/notes/usearch/\n",
        "2. https://lanwuwei.github.io/courses/SP19/3521_slides/4-Informed-Search_1.pdf"
      ]
    }
  ]
}